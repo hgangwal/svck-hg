{
 "cells": [
  {
   "cell_type": "code",
   "execution_count": 32,
   "id": "d51f6829",
   "metadata": {},
   "outputs": [
    {
     "name": "stdout",
     "output_type": "stream",
     "text": [
      "{'title': 'TOML Example', 'owner': {'name': 'John Doe', 'dob': datetime.datetime(1979, 5, 27, 7, 32, tzinfo=datetime.timezone.utc)}, 'database': {'server': '192.168.1.1', 'ports': [8001, 8001, 8002], 'enabled': True}, 'clients': {'data': [['gamma', 'delta'], [1, 2]]}}\n",
      "Title: TOML Example\n",
      "Owner Name: John Doe\n",
      "Database Ports: [8001, 8001, 8002]\n",
      "{'title': 'TOML Example', 'owner': {'name': 'John Doe', 'dob': datetime.datetime(1979, 5, 27, 7, 32, tzinfo=datetime.timezone.utc)}, 'database': {'server': '192.168.1.1', 'ports': [8001, 8001, 8002], 'enabled': True}, 'clients': {'data': [['gamma', 'delta'], [1, 2]]}}\n",
      "Data loaded from file matches original data.\n",
      "{'name': 'John Doe', 'dob': datetime.datetime(1979, 5, 27, 7, 32, tzinfo=datetime.timezone.utc)}\n",
      "{'server': '192.168.1.1', 'ports': [8001, 8001, 8002], 'enabled': True}\n",
      "{'data': [['gamma', 'delta'], [1, 2]]}\n",
      "[['gamma', 'delta'], [1, 2]]\n",
      "gamma\n",
      "1\n"
     ]
    }
   ],
   "source": [
    "import tomli\n",
    "\n",
    "# Sample TOML data as a string\n",
    "toml_string = \"\"\"\n",
    "title = \"TOML Example\"\n",
    "\n",
    "[owner]\n",
    "name = \"John Doe\"\n",
    "dob = 1979-05-27T07:32:00Z\n",
    "\n",
    "[database]\n",
    "server = \"192.168.1.1\"\n",
    "ports = [ 8001, 8001, 8002 ]\n",
    "enabled = true\n",
    "\n",
    "[clients]\n",
    "data = [ [\"gamma\", \"delta\"], [1, 2] ]\n",
    "\"\"\"\n",
    "\n",
    "# Parsing TOML from a string\n",
    "data = tomli.loads(toml_string)\n",
    "print(data)\n",
    "\n",
    "# Accessing data\n",
    "print(\"Title:\", data[\"title\"])\n",
    "print(\"Owner Name:\", data[\"owner\"][\"name\"])\n",
    "print(\"Database Ports:\", data[\"database\"][\"ports\"])\n",
    "\n",
    "# Writing TOML to a file (Note: standard tomllib doesn't support writing)\n",
    "# You can use the 'toml' library for writing: pip install toml\n",
    "import tomli_w\n",
    "\n",
    "with open(\"example.toml\", \"wb\") as f:\n",
    "    tomli_w.dump(data, f)\n",
    "\n",
    "# Reading TOML from a file\n",
    "with open(\"example.toml\", \"rb\") as f:\n",
    "    loaded_data = tomli.load(f)\n",
    "\n",
    "print(loaded_data)\n",
    "\n",
    "# Verifying that the loaded data is the same\n",
    "assert data == loaded_data\n",
    "print(\"Data loaded from file matches original data.\")\n",
    "\n",
    "print(loaded_data.get(\"owner\",{}))\n",
    "print(loaded_data.get(\"database\",{}))\n",
    "print(loaded_data.get(\"clients\",{}))\n",
    "clients = loaded_data.get(\"clients\",{})\n",
    "clients_data = clients.get(\"data\")\n",
    "\n",
    "print(clients.get(\"data\"))\n",
    "print(clients_data[0][0])\n",
    "print(clients_data[1][0])"
   ]
  },
  {
   "cell_type": "code",
   "execution_count": 44,
   "id": "9403a30b",
   "metadata": {},
   "outputs": [
    {
     "name": "stdout",
     "output_type": "stream",
     "text": [
      "{'title': 'AsFigo Linter Rules TOML file', 'rules': [{'id': 120, 'name': 'Nested-Conditions', 'enable': True}, {'id': 115, 'name': 'Package-Encapsulation', 'enable': True}]}\n",
      "[{'id': 120, 'name': 'Nested-Conditions', 'enable': True}, {'id': 115, 'name': 'Package-Encapsulation', 'enable': True}]\n",
      "Nested-Conditions is enabled.\n",
      "\n",
      "Package-Encapsulation is enabled.\n",
      "\n",
      "Nested-Conditions is 120.\n",
      "\n"
     ]
    },
    {
     "ename": "AttributeError",
     "evalue": "'list' object has no attribute 'get'",
     "output_type": "error",
     "traceback": [
      "\u001b[0;31m---------------------------------------------------------------------------\u001b[0m",
      "\u001b[0;31mAttributeError\u001b[0m                            Traceback (most recent call last)",
      "Cell \u001b[0;32mIn[44], line 16\u001b[0m\n\u001b[1;32m     13\u001b[0m result \u001b[38;5;241m=\u001b[39m rule\u001b[38;5;241m.\u001b[39mget(\u001b[38;5;124m\"\u001b[39m\u001b[38;5;124mid\u001b[39m\u001b[38;5;124m\"\u001b[39m, \u001b[38;5;28;01mTrue\u001b[39;00m)\n\u001b[1;32m     14\u001b[0m \u001b[38;5;28mprint\u001b[39m(\u001b[38;5;124mf\u001b[39m\u001b[38;5;124m\"\u001b[39m\u001b[38;5;132;01m{\u001b[39;00mrule[\u001b[38;5;124m'\u001b[39m\u001b[38;5;124mname\u001b[39m\u001b[38;5;124m'\u001b[39m]\u001b[38;5;132;01m}\u001b[39;00m\u001b[38;5;124m is \u001b[39m\u001b[38;5;132;01m{\u001b[39;00mresult\u001b[38;5;132;01m}\u001b[39;00m\u001b[38;5;124m.\u001b[39m\u001b[38;5;130;01m\\n\u001b[39;00m\u001b[38;5;124m\"\u001b[39m) \n\u001b[0;32m---> 16\u001b[0m result \u001b[38;5;241m=\u001b[39m \u001b[43mrules\u001b[49m\u001b[38;5;241;43m.\u001b[39;49m\u001b[43mget\u001b[49m(\u001b[38;5;124m\"\u001b[39m\u001b[38;5;124mid\u001b[39m\u001b[38;5;124m\"\u001b[39m, \u001b[38;5;28;01mTrue\u001b[39;00m)\n\u001b[1;32m     17\u001b[0m \u001b[38;5;28mprint\u001b[39m(\u001b[38;5;124mf\u001b[39m\u001b[38;5;124m\"\u001b[39m\u001b[38;5;132;01m{\u001b[39;00mrule[\u001b[38;5;124m'\u001b[39m\u001b[38;5;124mname\u001b[39m\u001b[38;5;124m'\u001b[39m]\u001b[38;5;132;01m}\u001b[39;00m\u001b[38;5;124m isssss \u001b[39m\u001b[38;5;132;01m{\u001b[39;00mresult\u001b[38;5;132;01m}\u001b[39;00m\u001b[38;5;124m.\u001b[39m\u001b[38;5;130;01m\\n\u001b[39;00m\u001b[38;5;124m\"\u001b[39m) \n",
      "\u001b[0;31mAttributeError\u001b[0m: 'list' object has no attribute 'get'"
     ]
    }
   ],
   "source": [
    "import tomli\n",
    "with open(\"/home/himankgangwal/himank/src/svck-hg/bin/config.toml\", \"rb\") as f:\n",
    "    config = tomli.load(f)\n",
    "    rules = config.get(\"rules\", {})\n",
    "\n",
    "print(config)\n",
    "print(rules)\n",
    "for rule in rules:\n",
    "    if (rule[\"enable\"]):\n",
    "        print(f\"{rule['name']} is enabled.\\n\") \n",
    "\n",
    "for rule in rules:\n",
    "    result = rule.get(\"id\", True)\n",
    "    print(f\"{rule['name']} is {result}.\\n\") \n",
    "\n",
    "    result = rules.get(\"id\", True)\n",
    "    print(f\"{rule['name']} isssss {result}.\\n\") \n"
   ]
  }
 ],
 "metadata": {
  "kernelspec": {
   "display_name": "svck",
   "language": "python",
   "name": "python3"
  },
  "language_info": {
   "codemirror_mode": {
    "name": "ipython",
    "version": 3
   },
   "file_extension": ".py",
   "mimetype": "text/x-python",
   "name": "python",
   "nbconvert_exporter": "python",
   "pygments_lexer": "ipython3",
   "version": "3.9.21"
  }
 },
 "nbformat": 4,
 "nbformat_minor": 5
}
